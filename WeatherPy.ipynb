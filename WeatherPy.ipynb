{
 "cells": [
  {
   "cell_type": "code",
   "execution_count": 1,
   "metadata": {},
   "outputs": [],
   "source": [
    "# Import the dependencies.\n",
    "import pandas as pd\n",
    "import matplotlib.pyplot as plt\n",
    "import numpy as np"
   ]
  },
  {
   "cell_type": "code",
   "execution_count": 2,
   "metadata": {},
   "outputs": [
    {
     "data": {
      "text/plain": [
       "<zip at 0x26c50aa4588>"
      ]
     },
     "execution_count": 2,
     "metadata": {},
     "output_type": "execute_result"
    }
   ],
   "source": [
    "# Create a set of random latitude and longitude combinations.\n",
    "lats = np.random.uniform(low=-90.000, high=90.000, size=1500)\n",
    "lngs = np.random.uniform(low=-180.000, high=180.000, size=1500)\n",
    "lat_lngs = zip(lats, lngs)\n",
    "lat_lngs"
   ]
  },
  {
   "cell_type": "code",
   "execution_count": 3,
   "metadata": {},
   "outputs": [],
   "source": [
    "# Add the latitudes and longitudes to a list.\n",
    "coordinates = list(lat_lngs)"
   ]
  },
  {
   "cell_type": "code",
   "execution_count": 4,
   "metadata": {},
   "outputs": [],
   "source": [
    "# Use the citipy module to determine city based on latitude and longitude.\n",
    "from citipy import citipy"
   ]
  },
  {
   "cell_type": "code",
   "execution_count": 5,
   "metadata": {},
   "outputs": [
    {
     "data": {
      "text/plain": [
       "639"
      ]
     },
     "execution_count": 5,
     "metadata": {},
     "output_type": "execute_result"
    }
   ],
   "source": [
    "# Create a list for holding the cities.\n",
    "cities = []\n",
    "# Identify the nearest city for each latitude and longitude combination.\n",
    "for coordinate in coordinates:\n",
    "    city = citipy.nearest_city(coordinate[0], coordinate[1]).city_name\n",
    "\n",
    "    # If the city is unique, then we will add it to the cities list.\n",
    "    if city not in cities:\n",
    "        cities.append(city)\n",
    "# Print the city count to confirm sufficient count.\n",
    "len(cities)"
   ]
  },
  {
   "cell_type": "code",
   "execution_count": 6,
   "metadata": {},
   "outputs": [
    {
     "name": "stdout",
     "output_type": "stream",
     "text": [
      "['ransang', 'albany', 'nikolskoye', 'port blair', 'aden', 'hobart', 'flin flon', 'vaini', 'umzimvubu', 'columbus', 'kaitangata', 'bandarbeyla', 'taolanaro', 'panguna', 'tasiilaq', 'pevek', 'kavieng', 'mataura', 'baykit', 'pokhara', 'lompoc', 'mitsamiouli', 'thompson', 'ushuaia', 'lushunkou', 'bredasdorp', 'obukhiv', 'husavik', 'new norfolk', 'villazon', 'cervo', 'kangaatsiaq', 'arraial do cabo', 'hasaki', 'bethel', 'kahului', 'rikitea', 'mackenzie', 'mezen', 'samusu', 'jamestown', 'nouadhibou', 'isangel', 'pemberton', 'butaritari', 'beringovskiy', 'carutapera', 'east london', 'nacala', 'kodiak', 'cape town', 'vitorino freire', 'gaoyou', 'illoqqortoormiut', 'salalah', 'half moon bay', 'diglur', 'mujiayingzi', 'punta arenas', 'provideniya', 'jumla', 'puerto ayora', 'ngukurr', 'iqaluit', 'doctor pedro p. pena', 'mahebourg', 'den helder', 'morwell', 'bluff', 'kapaa', 'warqla', 'feldkirchen', 'norman wells', 'hermanus', 'ukiah', 'tumannyy', 'port hardy', 'juterbog', 'belushya guba', 'saint-francois', 'upernavik', 'rumphi', 'tsihombe', 'nsanje', 'geraldton', 'roma', 'nowy dwor gdanski', 'ninghai', 'qingdao', 'saskylakh', 'yar-sale', 'carai', 'aksu', 'lavrentiya', 'klaksvik', 'tasbuget', 'castro', 'krasnyy yar', 'sept-iles', 'yulara', 'portland', 'woodward', 'padang', 'busselton', 'victoria', 'kapfenberg', 'ljungby', 'aklavik', 'port elizabeth', 'cidreira', 'poum', 'burica', 'pisco', 'itarema', 'eskilstuna', 'san patricio', 'shishou', 'yomitan', 'tralee', 'port alfred', 'halalo', 'barrow', 'lebu', 'college', 'shenjiamen', 'bambous virieux', 'khatanga', 'hornepayne', 'auki', 'nabire', 'nileshwar', 'bolungarvik', 'georgetown', 'muros', 'fairbanks', 'vaitupu', 'avarua', 'bayanday', 'boda', 'atuona', 'guangyuan', 'cabo rojo', 'kavaratti', 'atar', 'cayenne', 'hithadhoo', 'gravdal', 'mys shmidta', 'jalu', 'tiksi', 'cherskiy', 'gwadar', 'roald', 'lexington', 'walvis bay', 'hay river', 'kalawit', 'barentsburg', 'thunder bay', 'kysyl-syr', 'pacific grove', 'dikson', 'bengkulu', 'port hedland', 'vangaindrano', 'koygorodok', 'adre', 'saint-philippe', 'cabo san lucas', 'shaghat', 'vrangel', 'vardo', 'teguldet', 'muroto', 'souillac', 'hokitika', 'vanimo', 'noshiro', 'sorong', 'belaya gora', 'ola', 'zolotinka', 'te anau', 'stabat', 'puerto princesa', 'vila do maio', 'tarakan', 'ocampo', 'narsaq', 'pauini', 'gazimurskiy zavod', 'nanortalik', 'santiago', 'west fargo', 'sharkan', 'postojna', 'caibarien', 'najran', 'xining', 'artsyz', 'airai', 'caravelas', 'kashi', 'artyk', 'kaoma', 'grand river south east', 'asau', 'guerrero negro', 'aliwal north', 'ponta do sol', 'high rock', 'grindavik', 'elbistan', 'khonuu', 'xiongyue', 'marzuq', 'ipora', 'mayor pablo lagerenza', 'black river', 'uturoa', 'sibolga', 'phan rang', 'tres arroyos', 'likasi', 'okato', 'fortuna', 'rosetta', 'nanakuli', 'tuktoyaktuk', 'puerto carreno', 'northam', 'sao filipe', 'san borja', 'buchanan', 'ugra', 'vaitape', 'itupiranga', 'gazli', 'tuatapere', 'ishigaki', 'kindu', 'meadow lake', 'sentyabrskiy', 'regente feijo', 'coquimbo', 'shirgaon', 'talnakh', 'chiapilla', 'amga', 'balabac', 'mar del plata', 'ilulissat', 'rantepao', 'novyy urgal', 'gaya', 'sosnovka', 'severo-kurilsk', 'port macquarie', 'rajula', 'longyearbyen', 'belyy yar', 'rio grande', 'hilo', 'vila velha', 'ancud', 'yellowknife', 'solnechnyy', 'kamenka', 'ribeira grande', 'nizhneyansk', 'moroni', 'port lincoln', 'kayerkan', 'ust-nera', 'kununurra', 'thinadhoo', 'olafsvik', 'morgan city', 'rungata', 'maryborough', 'luau', 'bathsheba', 'namibe', 'kungurtug', 'skagastrond', 'cape canaveral', 'matara', 'dauphin', 'moanda', 'carnarvon', 'tubruq', 'krasnyy chikoy', 'noumea', 'chernyshevskiy', 'mountain home', 'san rafael', 'nioro', 'attawapiskat', 'dingle', 'jilib', 'amot', 'gweta', 'sanary-sur-mer', 'dunedin', 'mayo', 'daokou', 'jicin', 'kruisfontein', 'sao miguel do oeste', 'saint-paul', 'qaanaaq', 'laguna', 'andevoranto', 'kloulklubed', 'sinnamary', 'komsomolskiy', 'poya', 'tuggurt', 'onega', 'cache creek', 'saint-leu', 'saint george', 'sakakah', 'codrington', 'zachagansk', 'torbay', 'klyuchi', 'tura', 'yangambi', 'alotau', 'kyren', 'abu samrah', 'palabuhanratu', 'faanui', 'sandnessjoen', 'clyde river', 'bargal', 'sarkand', 'turayf', 'praia da vitoria', 'coos bay', 'hamilton', 'dolbeau', 'turek', 'kambove', 'jacareacanga', 'springfield', 'moscow', 'turukhansk', 'osoyoos', 'krasnoselkup', 'ayr', 'lebowakgomo', 'hvammstangi', 'umm kaddadah', 'trairi', 'nemuro', 'bonthe', 'ghatal', 'verkhnevilyuysk', 'labytnangi', 'kalmunai', 'katsuura', 'ilhabela', 'belmonte', 'lorengau', 'alfenas', 'manadhoo', 'tarudant', 'zhuhai', 'fredericksburg', 'tilichiki', 'fushan', 'aksarka', 'kismayo', 'doka', 'kiruna', 'capinota', 'verkhniy kurkuzhin', 'constitucion', 'rovinj', 'harper', 'aswan', 'kajaani', 'adrar', 'isiro', 'sabha', 'gueugnon', 'lagoa', 'hervey bay', 'kachug', 'dukat', 'esperance', 'poroina mare', 'kuytun', 'staryy nadym', 'normandin', 'tabiauea', 'redmond', 'broadford', 'ahipara', 'vostok', 'kawalu', 'mende', 'kez', 'okhotsk', 'anadyr', 'amet', 'xuddur', 'kinablangan', 'san isidro', 'camana', 'uyuni', 'valparaiso', 'ambon', 'ulladulla', 'katha', 'alta floresta', 'tucuma', 'quatre cocos', 'tazovskiy', 'westport', 'tam ky', 'north bend', 'lieksa', 'sechura', 'rio gallegos', 'ostrovnoy', 'los llanos de aridane', 'bytow', 'amderma', 'abay', 'richards bay', 'edd', 'darlawn', 'saint-augustin', 'isetskoye', 'palmer', 'arlit', 'urumqi', 'kenai', 'la asuncion', 'sujawal', 'hatta', 'bonavista', 'baghdad', 'sao joao da barra', 'durban', 'dehui', 'trinidad', 'seoul', 'minab', 'korla', 'itaberaba', 'sembe', 'phek', 'margate', 'ketchikan', 'broome', 'morden', 'batagay', 'huntingdon', 'faya', 'nikel', 'qasigiannguit', 'champerico', 'nisia floresta', 'jiroft', 'purgstall', 'two rivers', 'springbok', 'polson', 'sitka', 'nyrob', 'papara', 'labuhan', 'coihaique', 'surt', 'the valley', 'kyzyl-suu', 'bontang', 'waitakere', 'ewo', 'tamsweg', 'fort nelson', 'jaszkarajeno', 'chuy', 'alice springs', 'aktas', 'salvador', 'alofi', 'urdzhar', 'tavricheskoye', 'kemijarvi', 'dawei', 'kalmar', 'kapit', 'kamsack', 'nanticoke', 'abhar', 'hofn', 'berezovyy', 'yumen', 'leh', 'wenling', 'san carlos', 'la ronge', 'oktyabrskiy', 'clarksdale', 'qaqortoq', 'shaunavon', 'xingcheng', 'soe', 'nouakchott', 'bilma', 'totness', 'paulo ramos', 'rawson', 'capreol', 'simpang', 'desaguadero', 'egvekinot', 'ipixuna', 'oyo', 'ostersund', 'manyana', 'adjumani', 'wewak', 'jinka', 'van', 'hue', 'sioux lookout', 'ouidah', 'toora-khem', 'ouro preto', 'chissamba', 'vizinga', 'sahuaripa', 'whittlesea', 'andreapol', 'bolobo', 'bollnas', 'katy', 'ignatovka', 'lebrija', 'flinders', 'zelenogorsk', 'vestmannaeyjar', 'oranjemund', 'islamkot', 'koping', 'upata', 'barra', 'bambanglipuro', 'binzhou', 'launceston', 'alyangula', 'plouzane', 'krasnoarmeysk', 'zhigansk', 'lerwick', 'charters towers', 'mareeba', 'clarksburg', 'saint-joseph', 'igrim', 'lillesand', 'urengoy', 'bandar-e torkaman', 'pangnirtung', 'del rio', 'colares', 'la esperanza', 'dareda', 'meyungs', 'nishihara', 'hailar', 'zhumadian', 'chokurdakh', 'vasterhaninge', 'karpathos', 'talara', 'luderitz', 'bull savanna', 'gold coast', 'ulaanbaatar', 'oda', 'woodstock', 'svetlogorsk', 'haibowan', 'melbu', 'gloucester', 'quelimane', 'uvira', 'puerto leguizamo', 'umm lajj', 'bharatpur', 'goundam', 'saleaula', 'maceio', 'jaen', 'lasa', 'antofagasta', 'konstantinovka', 'dandong', 'yelan', 'saldanha', 'yirol', 'kieta', 'pio xii', 'casino', 'vao', 'chalus', 'liniere', 'nanuque', 'ayan', 'effium', 'mount gambier', 'panaba', 'inhambane', 'necochea', 'terme', 'taburi', 'azimur', 'gombong', 'sao felix do xingu', 'eirunepe', 'sur', 'sulangan', 'menongue', 'igbo ora', 'minudasht', 'chapais', 'gamba', 'le port', 'esfahan', 'nhulunbuy', 'hihifo', 'antalaha']\n"
     ]
    }
   ],
   "source": [
    "print (cities)"
   ]
  },
  {
   "cell_type": "code",
   "execution_count": null,
   "metadata": {},
   "outputs": [],
   "source": []
  }
 ],
 "metadata": {
  "kernelspec": {
   "display_name": "PythonData",
   "language": "python",
   "name": "pythondata"
  },
  "language_info": {
   "codemirror_mode": {
    "name": "ipython",
    "version": 3
   },
   "file_extension": ".py",
   "mimetype": "text/x-python",
   "name": "python",
   "nbconvert_exporter": "python",
   "pygments_lexer": "ipython3",
   "version": "3.7.9"
  }
 },
 "nbformat": 4,
 "nbformat_minor": 4
}
